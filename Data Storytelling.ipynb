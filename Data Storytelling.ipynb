{
 "cells": [
  {
   "cell_type": "code",
   "execution_count": 2,
   "metadata": {},
   "outputs": [],
   "source": [
    "import pandas as pd\n",
    "import seaborn as sns\n",
    "import matplotlib.pyplot as plt"
   ]
  },
  {
   "cell_type": "code",
   "execution_count": 3,
   "metadata": {},
   "outputs": [],
   "source": [
    "wh = pd.read_csv('data_final/merged_all_final.csv')"
   ]
  },
  {
   "cell_type": "code",
   "execution_count": 4,
   "metadata": {},
   "outputs": [
    {
     "data": {
      "text/html": [
       "<div>\n",
       "<style scoped>\n",
       "    .dataframe tbody tr th:only-of-type {\n",
       "        vertical-align: middle;\n",
       "    }\n",
       "\n",
       "    .dataframe tbody tr th {\n",
       "        vertical-align: top;\n",
       "    }\n",
       "\n",
       "    .dataframe thead th {\n",
       "        text-align: right;\n",
       "    }\n",
       "</style>\n",
       "<table border=\"1\" class=\"dataframe\">\n",
       "  <thead>\n",
       "    <tr style=\"text-align: right;\">\n",
       "      <th></th>\n",
       "      <th>Country</th>\n",
       "      <th>Region</th>\n",
       "      <th>iso_a3</th>\n",
       "      <th>wh_score</th>\n",
       "      <th>gdi</th>\n",
       "      <th>gii</th>\n",
       "      <th>efs</th>\n",
       "      <th>pdn</th>\n",
       "      <th>year</th>\n",
       "    </tr>\n",
       "  </thead>\n",
       "  <tbody>\n",
       "    <tr>\n",
       "      <th>0</th>\n",
       "      <td>Albania</td>\n",
       "      <td>Southern Europe</td>\n",
       "      <td>ALB</td>\n",
       "      <td>4.655</td>\n",
       "      <td>0.970</td>\n",
       "      <td>0.256</td>\n",
       "      <td>65.650034</td>\n",
       "      <td>105.135146</td>\n",
       "      <td>2015</td>\n",
       "    </tr>\n",
       "    <tr>\n",
       "      <th>1</th>\n",
       "      <td>Algeria</td>\n",
       "      <td>Northern Africa</td>\n",
       "      <td>DZA</td>\n",
       "      <td>6.355</td>\n",
       "      <td>0.858</td>\n",
       "      <td>0.442</td>\n",
       "      <td>48.881858</td>\n",
       "      <td>16.680253</td>\n",
       "      <td>2015</td>\n",
       "    </tr>\n",
       "    <tr>\n",
       "      <th>2</th>\n",
       "      <td>Angola</td>\n",
       "      <td>Sub-Saharan Africa</td>\n",
       "      <td>AGO</td>\n",
       "      <td>3.866</td>\n",
       "      <td>0.838</td>\n",
       "      <td>0.575</td>\n",
       "      <td>47.885804</td>\n",
       "      <td>22.366552</td>\n",
       "      <td>2015</td>\n",
       "    </tr>\n",
       "    <tr>\n",
       "      <th>3</th>\n",
       "      <td>Armenia</td>\n",
       "      <td>Western Asia</td>\n",
       "      <td>ARM</td>\n",
       "      <td>4.360</td>\n",
       "      <td>0.977</td>\n",
       "      <td>0.301</td>\n",
       "      <td>67.125092</td>\n",
       "      <td>102.759150</td>\n",
       "      <td>2015</td>\n",
       "    </tr>\n",
       "    <tr>\n",
       "      <th>4</th>\n",
       "      <td>Australia</td>\n",
       "      <td>Australia and New Zealand</td>\n",
       "      <td>AUS</td>\n",
       "      <td>7.313</td>\n",
       "      <td>0.975</td>\n",
       "      <td>0.110</td>\n",
       "      <td>81.387287</td>\n",
       "      <td>3.100113</td>\n",
       "      <td>2015</td>\n",
       "    </tr>\n",
       "  </tbody>\n",
       "</table>\n",
       "</div>"
      ],
      "text/plain": [
       "     Country                     Region iso_a3  wh_score    gdi    gii  \\\n",
       "0    Albania            Southern Europe    ALB     4.655  0.970  0.256   \n",
       "1    Algeria            Northern Africa    DZA     6.355  0.858  0.442   \n",
       "2     Angola         Sub-Saharan Africa    AGO     3.866  0.838  0.575   \n",
       "3    Armenia               Western Asia    ARM     4.360  0.977  0.301   \n",
       "4  Australia  Australia and New Zealand    AUS     7.313  0.975  0.110   \n",
       "\n",
       "         efs         pdn  year  \n",
       "0  65.650034  105.135146  2015  \n",
       "1  48.881858   16.680253  2015  \n",
       "2  47.885804   22.366552  2015  \n",
       "3  67.125092  102.759150  2015  \n",
       "4  81.387287    3.100113  2015  "
      ]
     },
     "execution_count": 4,
     "metadata": {},
     "output_type": "execute_result"
    }
   ],
   "source": [
    "wh.head()"
   ]
  },
  {
   "cell_type": "markdown",
   "metadata": {},
   "source": [
    "# <span style=\"color:red\">Observation 1: Countries in Northern Europe have had the highest world Happiness Scores, while countries in Sub-Saharan Africa have had the lowest </span> \n",
    "# <span style=\"color:red\">Observation 2: Singapore has had both the highest econmic freedom as well as the highest population density for the past 4 years</span>\n",
    "# <span style=\"color:red\">Observation 3: There is a much broader range of population density and economic freedom score than there are of happiness, gender development, and gender inequality scores</span>"
   ]
  },
  {
   "cell_type": "markdown",
   "metadata": {},
   "source": [
    "#### Question: What is the min, max and range of each variable?"
   ]
  },
  {
   "cell_type": "code",
   "execution_count": 6,
   "metadata": {},
   "outputs": [
    {
     "data": {
      "text/html": [
       "<div>\n",
       "<style scoped>\n",
       "    .dataframe tbody tr th:only-of-type {\n",
       "        vertical-align: middle;\n",
       "    }\n",
       "\n",
       "    .dataframe tbody tr th {\n",
       "        vertical-align: top;\n",
       "    }\n",
       "\n",
       "    .dataframe thead th {\n",
       "        text-align: right;\n",
       "    }\n",
       "</style>\n",
       "<table border=\"1\" class=\"dataframe\">\n",
       "  <thead>\n",
       "    <tr style=\"text-align: right;\">\n",
       "      <th></th>\n",
       "      <th>wh_score</th>\n",
       "      <th>gdi</th>\n",
       "      <th>gii</th>\n",
       "      <th>efs</th>\n",
       "      <th>pdn</th>\n",
       "      <th>year</th>\n",
       "    </tr>\n",
       "  </thead>\n",
       "  <tbody>\n",
       "    <tr>\n",
       "      <th>count</th>\n",
       "      <td>548.000000</td>\n",
       "      <td>548.000000</td>\n",
       "      <td>548.000000</td>\n",
       "      <td>548.000000</td>\n",
       "      <td>548.000000</td>\n",
       "      <td>548.000000</td>\n",
       "    </tr>\n",
       "    <tr>\n",
       "      <th>mean</th>\n",
       "      <td>5.462885</td>\n",
       "      <td>0.940172</td>\n",
       "      <td>0.342447</td>\n",
       "      <td>62.197024</td>\n",
       "      <td>209.427284</td>\n",
       "      <td>2016.510949</td>\n",
       "    </tr>\n",
       "    <tr>\n",
       "      <th>std</th>\n",
       "      <td>1.115995</td>\n",
       "      <td>0.085188</td>\n",
       "      <td>0.193097</td>\n",
       "      <td>9.884574</td>\n",
       "      <td>704.157751</td>\n",
       "      <td>1.119002</td>\n",
       "    </tr>\n",
       "    <tr>\n",
       "      <th>min</th>\n",
       "      <td>2.693000</td>\n",
       "      <td>0.270000</td>\n",
       "      <td>0.037000</td>\n",
       "      <td>25.200000</td>\n",
       "      <td>1.930044</td>\n",
       "      <td>2015.000000</td>\n",
       "    </tr>\n",
       "    <tr>\n",
       "      <th>25%</th>\n",
       "      <td>4.559225</td>\n",
       "      <td>0.913000</td>\n",
       "      <td>0.155250</td>\n",
       "      <td>54.762404</td>\n",
       "      <td>32.187782</td>\n",
       "      <td>2016.000000</td>\n",
       "    </tr>\n",
       "    <tr>\n",
       "      <th>50%</th>\n",
       "      <td>5.427650</td>\n",
       "      <td>0.966000</td>\n",
       "      <td>0.357500</td>\n",
       "      <td>61.989253</td>\n",
       "      <td>82.397530</td>\n",
       "      <td>2017.000000</td>\n",
       "    </tr>\n",
       "    <tr>\n",
       "      <th>75%</th>\n",
       "      <td>6.294925</td>\n",
       "      <td>0.987000</td>\n",
       "      <td>0.494250</td>\n",
       "      <td>69.222500</td>\n",
       "      <td>149.177893</td>\n",
       "      <td>2018.000000</td>\n",
       "    </tr>\n",
       "    <tr>\n",
       "      <th>max</th>\n",
       "      <td>7.768900</td>\n",
       "      <td>1.045000</td>\n",
       "      <td>0.841000</td>\n",
       "      <td>89.351544</td>\n",
       "      <td>7952.998418</td>\n",
       "      <td>2018.000000</td>\n",
       "    </tr>\n",
       "  </tbody>\n",
       "</table>\n",
       "</div>"
      ],
      "text/plain": [
       "         wh_score         gdi         gii         efs          pdn  \\\n",
       "count  548.000000  548.000000  548.000000  548.000000   548.000000   \n",
       "mean     5.462885    0.940172    0.342447   62.197024   209.427284   \n",
       "std      1.115995    0.085188    0.193097    9.884574   704.157751   \n",
       "min      2.693000    0.270000    0.037000   25.200000     1.930044   \n",
       "25%      4.559225    0.913000    0.155250   54.762404    32.187782   \n",
       "50%      5.427650    0.966000    0.357500   61.989253    82.397530   \n",
       "75%      6.294925    0.987000    0.494250   69.222500   149.177893   \n",
       "max      7.768900    1.045000    0.841000   89.351544  7952.998418   \n",
       "\n",
       "              year  \n",
       "count   548.000000  \n",
       "mean   2016.510949  \n",
       "std       1.119002  \n",
       "min    2015.000000  \n",
       "25%    2016.000000  \n",
       "50%    2017.000000  \n",
       "75%    2018.000000  \n",
       "max    2018.000000  "
      ]
     },
     "execution_count": 6,
     "metadata": {},
     "output_type": "execute_result"
    }
   ],
   "source": [
    "wh.describe()"
   ]
  },
  {
   "cell_type": "code",
   "execution_count": 52,
   "metadata": {},
   "outputs": [
    {
     "name": "stdout",
     "output_type": "stream",
     "text": [
      "                      Country              Region  wh_score  year\n",
      "20                    Burundi  Sub-Saharan Africa    2.9050  2015\n",
      "160  Central African Republic  Sub-Saharan Africa    2.6930  2016\n",
      "294                   Burundi  Sub-Saharan Africa    2.9045  2017\n",
      "433  Central African Republic  Sub-Saharan Africa    3.0830  2018\n",
      "     Country           Region  wh_score  year\n",
      "34   Denmark  Northern Europe    7.5260  2015\n",
      "229   Norway  Northern Europe    7.5370  2016\n",
      "315  Finland  Northern Europe    7.6321  2017\n",
      "451  Finland  Northern Europe    7.7689  2018\n"
     ]
    }
   ],
   "source": [
    "print(wh[['Country','Region','wh_score', 'year']].loc[wh.groupby('year')['wh_score'].idxmin()],\n",
    "      wh[['Country','Region','wh_score', 'year']].loc[wh.groupby('year')['wh_score'].idxmax()],sep='\\n')"
   ]
  },
  {
   "cell_type": "code",
   "execution_count": 54,
   "metadata": {},
   "outputs": [
    {
     "name": "stdout",
     "output_type": "stream",
     "text": [
      "    Country              Region    gdi  year\n",
      "89    Niger  Sub-Saharan Africa  0.270  2015\n",
      "228   Niger  Sub-Saharan Africa  0.279  2016\n",
      "365   Niger  Sub-Saharan Africa  0.289  2017\n",
      "503   Niger  Sub-Saharan Africa  0.298  2018\n",
      "    Country        Region    gdi  year\n",
      "98    Qatar  Western Asia  1.043  2015\n",
      "237   Qatar  Western Asia  1.041  2016\n",
      "374   Qatar  Western Asia  1.045  2017\n",
      "512   Qatar  Western Asia  1.043  2018\n"
     ]
    }
   ],
   "source": [
    "print(wh[['Country','Region','gdi', 'year']].loc[wh.groupby('year')['gdi'].idxmin()],\n",
    "      wh[['Country','Region','gdi', 'year']].loc[wh.groupby('year')['gdi'].idxmax()],sep='\\n')"
   ]
  },
  {
   "cell_type": "code",
   "execution_count": 55,
   "metadata": {},
   "outputs": [
    {
     "name": "stdout",
     "output_type": "stream",
     "text": [
      "         Country           Region    gii  year\n",
      "34       Denmark  Northern Europe  0.044  2015\n",
      "171      Denmark  Northern Europe  0.042  2016\n",
      "390  Switzerland   Western Europe  0.040  2017\n",
      "529  Switzerland   Western Europe  0.037  2018\n",
      "    Country                           Region    gii  year\n",
      "132   Yemen                     Western Asia  0.841  2015\n",
      "186   Haiti  Latin America and the Caribbean  0.765  2016\n",
      "299    Chad               Sub-Saharan Africa  0.710  2017\n",
      "434    Chad               Sub-Saharan Africa  0.701  2018\n"
     ]
    }
   ],
   "source": [
    "print(wh[['Country','Region','gii', 'year']].loc[wh.groupby('year')['gii'].idxmin()],\n",
    "      wh[['Country','Region','gii', 'year']].loc[wh.groupby('year')['gii'].idxmax()],sep='\\n')"
   ]
  },
  {
   "cell_type": "code",
   "execution_count": 56,
   "metadata": {},
   "outputs": [
    {
     "name": "stdout",
     "output_type": "stream",
     "text": [
      "       Country                           Region        efs  year\n",
      "130  Venezuela  Latin America and the Caribbean  34.335980  2015\n",
      "268  Venezuela  Latin America and the Caribbean  33.740000  2016\n",
      "405  Venezuela  Latin America and the Caribbean  26.961476  2017\n",
      "544  Venezuela  Latin America and the Caribbean  25.200000  2018\n",
      "       Country              Region        efs  year\n",
      "106  Singapore  South-eastern Asia  89.351544  2015\n",
      "245  Singapore  South-eastern Asia  87.780000  2016\n",
      "382  Singapore  South-eastern Asia  88.580007  2017\n",
      "520  Singapore  South-eastern Asia  88.800000  2018\n"
     ]
    }
   ],
   "source": [
    "print(wh[['Country','Region','efs', 'year']].loc[wh.groupby('year')['efs'].idxmin()],\n",
    "      wh[['Country','Region','efs', 'year']].loc[wh.groupby('year')['efs'].idxmax()],sep='\\n')"
   ]
  },
  {
   "cell_type": "code",
   "execution_count": 57,
   "metadata": {},
   "outputs": [
    {
     "name": "stdout",
     "output_type": "stream",
     "text": [
      "      Country        Region       pdn  year\n",
      "81   Mongolia  Eastern Asia  1.930044  2015\n",
      "219  Mongolia  Eastern Asia  1.967326  2016\n",
      "356  Mongolia  Eastern Asia  2.004286  2017\n",
      "494  Mongolia  Eastern Asia  2.040609  2018\n",
      "       Country              Region          pdn  year\n",
      "106  Singapore  South-eastern Asia  7806.772752  2015\n",
      "245  Singapore  South-eastern Asia  7908.720563  2016\n",
      "382  Singapore  South-eastern Asia  7915.730436  2017\n",
      "520  Singapore  South-eastern Asia  7952.998418  2018\n"
     ]
    }
   ],
   "source": [
    "print(wh[['Country','Region','pdn', 'year']].loc[wh.groupby('year')['pdn'].idxmin()],\n",
    "      wh[['Country','Region','pdn', 'year']].loc[wh.groupby('year')['pdn'].idxmax()],sep='\\n')"
   ]
  },
  {
   "cell_type": "code",
   "execution_count": 59,
   "metadata": {},
   "outputs": [
    {
     "name": "stdout",
     "output_type": "stream",
     "text": [
      "Happiness Score range: 5.076\n",
      "Gender Development Index range: 0.775\n",
      "Gender Inequality Index range: 0.804\n",
      "Economic Freedom Index range: 64.152\n",
      "Population Density range: 7951.068\n"
     ]
    }
   ],
   "source": [
    "print('Happiness Score range:', round((wh['wh_score'].max()- wh['wh_score'].min()),3))\n",
    "print('Gender Development Index range:', round((wh['gdi'].max()- wh['gdi'].min()),3))\n",
    "print('Gender Inequality Index range:', round((wh['gii'].max()- wh['gii'].min()),3))\n",
    "print('Economic Freedom Index range:', round((wh['efs'].max()- wh['efs'].min()),3))\n",
    "print('Population Density range:', round((wh['pdn'].max()- wh['pdn'].min()),3))"
   ]
  },
  {
   "cell_type": "code",
   "execution_count": null,
   "metadata": {},
   "outputs": [],
   "source": []
  }
 ],
 "metadata": {
  "kernelspec": {
   "display_name": "Python 3",
   "language": "python",
   "name": "python3"
  },
  "language_info": {
   "codemirror_mode": {
    "name": "ipython",
    "version": 3
   },
   "file_extension": ".py",
   "mimetype": "text/x-python",
   "name": "python",
   "nbconvert_exporter": "python",
   "pygments_lexer": "ipython3",
   "version": "3.7.5"
  }
 },
 "nbformat": 4,
 "nbformat_minor": 2
}
